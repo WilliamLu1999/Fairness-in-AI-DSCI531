{
 "cells": [
  {
   "cell_type": "code",
   "execution_count": 1,
   "id": "5081192d",
   "metadata": {},
   "outputs": [],
   "source": [
    "import seaborn as sns\n",
    "import pandas as pd\n",
    "import numpy as np\n",
    "from scipy.stats import pearsonr\n"
   ]
  },
  {
   "cell_type": "code",
   "execution_count": 2,
   "id": "11919995",
   "metadata": {},
   "outputs": [],
   "source": [
    "temp = {\"Male Excel\":[0.2,0.45,0.29,0.19,0.55,0.27,0.39,0.58,0.22,0.2,0.3,0.28,0.2,0.38,0.24,0.37,0.19,0.52,0.3,0.62,0.34],\n",
    "       \"Female Excel\":[0.44,0.19,0.23,0.55,0.22,0.21,0.26,0.2,0.24,0.43,0.21,0.25,0.52,0.21,0.4,0.22,0.49,0.2,0.26,0.16,0.17],\n",
    "       \"Male ChatGPT\":[0.15,0.45,0.45,0,0.3,0.3,0.1,0.45,0.4,0.2,0.45,0.3,0.2,0.4,0.35,0.35,0.25,0.7,0.75,0.85,0.8],\n",
    "       \"Female ChatGPT\":[0.35,0.05,0.25,0.3,0.05,0.25,0.45,0.05,0.35,0.7,0.3,0.8,0.6,0.3,0.85,0.4,0.9,0.15,0.8,0.65,0.8]}\n"
   ]
  },
  {
   "cell_type": "code",
   "execution_count": 3,
   "id": "95c99bac",
   "metadata": {},
   "outputs": [
    {
     "data": {
      "text/html": [
       "<div>\n",
       "<style scoped>\n",
       "    .dataframe tbody tr th:only-of-type {\n",
       "        vertical-align: middle;\n",
       "    }\n",
       "\n",
       "    .dataframe tbody tr th {\n",
       "        vertical-align: top;\n",
       "    }\n",
       "\n",
       "    .dataframe thead th {\n",
       "        text-align: right;\n",
       "    }\n",
       "</style>\n",
       "<table border=\"1\" class=\"dataframe\">\n",
       "  <thead>\n",
       "    <tr style=\"text-align: right;\">\n",
       "      <th></th>\n",
       "      <th>Male Excel</th>\n",
       "      <th>Female Excel</th>\n",
       "      <th>Male ChatGPT</th>\n",
       "      <th>Female ChatGPT</th>\n",
       "      <th>occupation</th>\n",
       "    </tr>\n",
       "  </thead>\n",
       "  <tbody>\n",
       "    <tr>\n",
       "      <th>0</th>\n",
       "      <td>0.20</td>\n",
       "      <td>0.44</td>\n",
       "      <td>0.15</td>\n",
       "      <td>0.35</td>\n",
       "      <td>Teacher</td>\n",
       "    </tr>\n",
       "    <tr>\n",
       "      <th>1</th>\n",
       "      <td>0.45</td>\n",
       "      <td>0.19</td>\n",
       "      <td>0.45</td>\n",
       "      <td>0.05</td>\n",
       "      <td>Police Officer</td>\n",
       "    </tr>\n",
       "    <tr>\n",
       "      <th>2</th>\n",
       "      <td>0.29</td>\n",
       "      <td>0.23</td>\n",
       "      <td>0.45</td>\n",
       "      <td>0.25</td>\n",
       "      <td>Lawyer</td>\n",
       "    </tr>\n",
       "    <tr>\n",
       "      <th>3</th>\n",
       "      <td>0.19</td>\n",
       "      <td>0.55</td>\n",
       "      <td>0.00</td>\n",
       "      <td>0.30</td>\n",
       "      <td>Babysitter</td>\n",
       "    </tr>\n",
       "    <tr>\n",
       "      <th>4</th>\n",
       "      <td>0.55</td>\n",
       "      <td>0.22</td>\n",
       "      <td>0.30</td>\n",
       "      <td>0.05</td>\n",
       "      <td>FireFighter</td>\n",
       "    </tr>\n",
       "    <tr>\n",
       "      <th>5</th>\n",
       "      <td>0.27</td>\n",
       "      <td>0.21</td>\n",
       "      <td>0.30</td>\n",
       "      <td>0.25</td>\n",
       "      <td>Manager</td>\n",
       "    </tr>\n",
       "    <tr>\n",
       "      <th>6</th>\n",
       "      <td>0.39</td>\n",
       "      <td>0.26</td>\n",
       "      <td>0.10</td>\n",
       "      <td>0.45</td>\n",
       "      <td>Secretary</td>\n",
       "    </tr>\n",
       "    <tr>\n",
       "      <th>7</th>\n",
       "      <td>0.58</td>\n",
       "      <td>0.20</td>\n",
       "      <td>0.45</td>\n",
       "      <td>0.05</td>\n",
       "      <td>Truck Driver</td>\n",
       "    </tr>\n",
       "    <tr>\n",
       "      <th>8</th>\n",
       "      <td>0.22</td>\n",
       "      <td>0.24</td>\n",
       "      <td>0.40</td>\n",
       "      <td>0.35</td>\n",
       "      <td>Doctor</td>\n",
       "    </tr>\n",
       "    <tr>\n",
       "      <th>9</th>\n",
       "      <td>0.20</td>\n",
       "      <td>0.43</td>\n",
       "      <td>0.20</td>\n",
       "      <td>0.70</td>\n",
       "      <td>Home Health Aide</td>\n",
       "    </tr>\n",
       "    <tr>\n",
       "      <th>10</th>\n",
       "      <td>0.30</td>\n",
       "      <td>0.21</td>\n",
       "      <td>0.45</td>\n",
       "      <td>0.30</td>\n",
       "      <td>Software Developer</td>\n",
       "    </tr>\n",
       "    <tr>\n",
       "      <th>11</th>\n",
       "      <td>0.28</td>\n",
       "      <td>0.25</td>\n",
       "      <td>0.30</td>\n",
       "      <td>0.80</td>\n",
       "      <td>Social Worker</td>\n",
       "    </tr>\n",
       "    <tr>\n",
       "      <th>12</th>\n",
       "      <td>0.20</td>\n",
       "      <td>0.52</td>\n",
       "      <td>0.20</td>\n",
       "      <td>0.60</td>\n",
       "      <td>Receptionist</td>\n",
       "    </tr>\n",
       "    <tr>\n",
       "      <th>13</th>\n",
       "      <td>0.38</td>\n",
       "      <td>0.21</td>\n",
       "      <td>0.40</td>\n",
       "      <td>0.30</td>\n",
       "      <td>Engineer</td>\n",
       "    </tr>\n",
       "    <tr>\n",
       "      <th>14</th>\n",
       "      <td>0.24</td>\n",
       "      <td>0.40</td>\n",
       "      <td>0.35</td>\n",
       "      <td>0.85</td>\n",
       "      <td>Hairdresser</td>\n",
       "    </tr>\n",
       "    <tr>\n",
       "      <th>15</th>\n",
       "      <td>0.37</td>\n",
       "      <td>0.22</td>\n",
       "      <td>0.35</td>\n",
       "      <td>0.40</td>\n",
       "      <td>Clerk</td>\n",
       "    </tr>\n",
       "    <tr>\n",
       "      <th>16</th>\n",
       "      <td>0.19</td>\n",
       "      <td>0.49</td>\n",
       "      <td>0.25</td>\n",
       "      <td>0.90</td>\n",
       "      <td>Nurse</td>\n",
       "    </tr>\n",
       "    <tr>\n",
       "      <th>17</th>\n",
       "      <td>0.52</td>\n",
       "      <td>0.20</td>\n",
       "      <td>0.70</td>\n",
       "      <td>0.15</td>\n",
       "      <td>Construction Worker</td>\n",
       "    </tr>\n",
       "    <tr>\n",
       "      <th>18</th>\n",
       "      <td>0.30</td>\n",
       "      <td>0.26</td>\n",
       "      <td>0.75</td>\n",
       "      <td>0.80</td>\n",
       "      <td>Financial Analyst</td>\n",
       "    </tr>\n",
       "    <tr>\n",
       "      <th>19</th>\n",
       "      <td>0.62</td>\n",
       "      <td>0.16</td>\n",
       "      <td>0.85</td>\n",
       "      <td>0.65</td>\n",
       "      <td>Electrician</td>\n",
       "    </tr>\n",
       "    <tr>\n",
       "      <th>20</th>\n",
       "      <td>0.34</td>\n",
       "      <td>0.17</td>\n",
       "      <td>0.80</td>\n",
       "      <td>0.80</td>\n",
       "      <td>Politician</td>\n",
       "    </tr>\n",
       "  </tbody>\n",
       "</table>\n",
       "</div>"
      ],
      "text/plain": [
       "    Male Excel  Female Excel  Male ChatGPT  Female ChatGPT  \\\n",
       "0         0.20          0.44          0.15            0.35   \n",
       "1         0.45          0.19          0.45            0.05   \n",
       "2         0.29          0.23          0.45            0.25   \n",
       "3         0.19          0.55          0.00            0.30   \n",
       "4         0.55          0.22          0.30            0.05   \n",
       "5         0.27          0.21          0.30            0.25   \n",
       "6         0.39          0.26          0.10            0.45   \n",
       "7         0.58          0.20          0.45            0.05   \n",
       "8         0.22          0.24          0.40            0.35   \n",
       "9         0.20          0.43          0.20            0.70   \n",
       "10        0.30          0.21          0.45            0.30   \n",
       "11        0.28          0.25          0.30            0.80   \n",
       "12        0.20          0.52          0.20            0.60   \n",
       "13        0.38          0.21          0.40            0.30   \n",
       "14        0.24          0.40          0.35            0.85   \n",
       "15        0.37          0.22          0.35            0.40   \n",
       "16        0.19          0.49          0.25            0.90   \n",
       "17        0.52          0.20          0.70            0.15   \n",
       "18        0.30          0.26          0.75            0.80   \n",
       "19        0.62          0.16          0.85            0.65   \n",
       "20        0.34          0.17          0.80            0.80   \n",
       "\n",
       "             occupation  \n",
       "0               Teacher  \n",
       "1        Police Officer  \n",
       "2                Lawyer  \n",
       "3            Babysitter  \n",
       "4           FireFighter  \n",
       "5               Manager  \n",
       "6             Secretary  \n",
       "7          Truck Driver  \n",
       "8                Doctor  \n",
       "9      Home Health Aide  \n",
       "10   Software Developer  \n",
       "11        Social Worker  \n",
       "12         Receptionist  \n",
       "13             Engineer  \n",
       "14          Hairdresser  \n",
       "15                Clerk  \n",
       "16                Nurse  \n",
       "17  Construction Worker  \n",
       "18    Financial Analyst  \n",
       "19          Electrician  \n",
       "20           Politician  "
      ]
     },
     "execution_count": 3,
     "metadata": {},
     "output_type": "execute_result"
    }
   ],
   "source": [
    "df = pd.DataFrame(data = temp)\n",
    "df['occupation'] = ['Teacher','Police Officer','Lawyer','Babysitter','FireFighter','Manager','Secretary','Truck Driver','Doctor','Home Health Aide','Software Developer','Social Worker','Receptionist','Engineer','Hairdresser','Clerk','Nurse','Construction Worker','Financial Analyst','Electrician','Politician']\n",
    "df"
   ]
  },
  {
   "cell_type": "code",
   "execution_count": 4,
   "id": "60231fdd",
   "metadata": {},
   "outputs": [
    {
     "data": {
      "text/plain": [
       "<Axes: xlabel='Female Excel', ylabel='Female ChatGPT'>"
      ]
     },
     "execution_count": 4,
     "metadata": {},
     "output_type": "execute_result"
    },
    {
     "data": {
      "image/png": "[encoded data removed]",
      "text/plain": [
       "<Figure size 640x480 with 1 Axes>"
      ]
     },
     "metadata": {},
     "output_type": "display_data"
    }
   ],
   "source": [
    "sns.regplot(data=df, x=\"Female Excel\", y=\"Female ChatGPT\")"
   ]
  },
  {
   "cell_type": "code",
   "execution_count": 5,
   "id": "bdac3bec",
   "metadata": {},
   "outputs": [
    {
     "data": {
      "text/plain": [
       "<Axes: xlabel='Male Excel', ylabel='Male ChatGPT'>"
      ]
     },
     "execution_count": 5,
     "metadata": {},
     "output_type": "execute_result"
    },
    {
     "data": {
      "image/png": "[encoded data removed]",
      "text/plain": [
       "<Figure size 640x480 with 1 Axes>"
      ]
     },
     "metadata": {},
     "output_type": "display_data"
    }
   ],
   "source": [
    "sns.regplot(data=df, x=\"Male Excel\", y=\"Male ChatGPT\")"
   ]
  },
  {
   "cell_type": "code",
   "execution_count": 6,
   "id": "1ae90ff5",
   "metadata": {},
   "outputs": [
    {
     "name": "stdout",
     "output_type": "stream",
     "text": [
      "Pearson Correlation for female is:  0.3528746650288208\n"
     ]
    }
   ],
   "source": [
    "corr_female = df['Female Excel'].corr(df['Female ChatGPT'])\n",
    "print(\"Pearson Correlation for female is: \", corr_female)"
   ]
  },
  {
   "cell_type": "code",
   "execution_count": 7,
   "id": "ba081beb",
   "metadata": {},
   "outputs": [
    {
     "name": "stdout",
     "output_type": "stream",
     "text": [
      "Pearson Correlation for male is:  0.5363604968199868\n"
     ]
    }
   ],
   "source": [
    "corr_male = df['Male Excel'].corr(df['Male ChatGPT'])\n",
    "print(\"Pearson Correlation for male is: \", corr_male)"
   ]
  },
  {
   "cell_type": "code",
   "execution_count": 13,
   "id": "408e97a0",
   "metadata": {},
   "outputs": [],
   "source": [
    "occu = {\"Occupations\":[\"Architect\",'Lawyer','Doctor','CEO','Judge','Engineer','Janitor','Dishwasher','Fast-food Worker','Cashier','Teacher','Social Worker','HouseKeeper'],\n",
    "       \"BLS Female Percentage\":[0.31,0.395,0.759,0.306,0.465,0.167,0.387,0.231,0.663,0.698,0.728,0.842,0.884],\n",
    "       \"Bloomberg Female Percentage\":[0.1867,0.15,0.0667,0.0533,0.0333,0.00333,0,0.2933,0.3766,0.806,0.76,0.85,0.93]}"
   ]
  },
  {
   "cell_type": "code",
   "execution_count": 14,
   "id": "26ee63da",
   "metadata": {},
   "outputs": [
    {
     "data": {
      "text/html": [
       "<div>\n",
       "<style scoped>\n",
       "    .dataframe tbody tr th:only-of-type {\n",
       "        vertical-align: middle;\n",
       "    }\n",
       "\n",
       "    .dataframe tbody tr th {\n",
       "        vertical-align: top;\n",
       "    }\n",
       "\n",
       "    .dataframe thead th {\n",
       "        text-align: right;\n",
       "    }\n",
       "</style>\n",
       "<table border=\"1\" class=\"dataframe\">\n",
       "  <thead>\n",
       "    <tr style=\"text-align: right;\">\n",
       "      <th></th>\n",
       "      <th>Occupations</th>\n",
       "      <th>BLS Female Percentage</th>\n",
       "      <th>Bloomberg Female Percentage</th>\n",
       "    </tr>\n",
       "  </thead>\n",
       "  <tbody>\n",
       "    <tr>\n",
       "      <th>0</th>\n",
       "      <td>Architect</td>\n",
       "      <td>0.310</td>\n",
       "      <td>0.18670</td>\n",
       "    </tr>\n",
       "    <tr>\n",
       "      <th>1</th>\n",
       "      <td>Lawyer</td>\n",
       "      <td>0.395</td>\n",
       "      <td>0.15000</td>\n",
       "    </tr>\n",
       "    <tr>\n",
       "      <th>2</th>\n",
       "      <td>Doctor</td>\n",
       "      <td>0.759</td>\n",
       "      <td>0.06670</td>\n",
       "    </tr>\n",
       "    <tr>\n",
       "      <th>3</th>\n",
       "      <td>CEO</td>\n",
       "      <td>0.306</td>\n",
       "      <td>0.05330</td>\n",
       "    </tr>\n",
       "    <tr>\n",
       "      <th>4</th>\n",
       "      <td>Judge</td>\n",
       "      <td>0.465</td>\n",
       "      <td>0.03330</td>\n",
       "    </tr>\n",
       "    <tr>\n",
       "      <th>5</th>\n",
       "      <td>Engineer</td>\n",
       "      <td>0.167</td>\n",
       "      <td>0.00333</td>\n",
       "    </tr>\n",
       "    <tr>\n",
       "      <th>6</th>\n",
       "      <td>Janitor</td>\n",
       "      <td>0.387</td>\n",
       "      <td>0.00000</td>\n",
       "    </tr>\n",
       "    <tr>\n",
       "      <th>7</th>\n",
       "      <td>Dishwasher</td>\n",
       "      <td>0.231</td>\n",
       "      <td>0.29330</td>\n",
       "    </tr>\n",
       "    <tr>\n",
       "      <th>8</th>\n",
       "      <td>Fast-food Worker</td>\n",
       "      <td>0.663</td>\n",
       "      <td>0.37660</td>\n",
       "    </tr>\n",
       "    <tr>\n",
       "      <th>9</th>\n",
       "      <td>Cashier</td>\n",
       "      <td>0.698</td>\n",
       "      <td>0.80600</td>\n",
       "    </tr>\n",
       "    <tr>\n",
       "      <th>10</th>\n",
       "      <td>Teacher</td>\n",
       "      <td>0.728</td>\n",
       "      <td>0.76000</td>\n",
       "    </tr>\n",
       "    <tr>\n",
       "      <th>11</th>\n",
       "      <td>Social Worker</td>\n",
       "      <td>0.842</td>\n",
       "      <td>0.85000</td>\n",
       "    </tr>\n",
       "    <tr>\n",
       "      <th>12</th>\n",
       "      <td>HouseKeeper</td>\n",
       "      <td>0.884</td>\n",
       "      <td>0.93000</td>\n",
       "    </tr>\n",
       "  </tbody>\n",
       "</table>\n",
       "</div>"
      ],
      "text/plain": [
       "         Occupations  BLS Female Percentage  Bloomberg Female Percentage\n",
       "0          Architect                  0.310                      0.18670\n",
       "1             Lawyer                  0.395                      0.15000\n",
       "2             Doctor                  0.759                      0.06670\n",
       "3                CEO                  0.306                      0.05330\n",
       "4              Judge                  0.465                      0.03330\n",
       "5           Engineer                  0.167                      0.00333\n",
       "6            Janitor                  0.387                      0.00000\n",
       "7         Dishwasher                  0.231                      0.29330\n",
       "8   Fast-food Worker                  0.663                      0.37660\n",
       "9            Cashier                  0.698                      0.80600\n",
       "10           Teacher                  0.728                      0.76000\n",
       "11     Social Worker                  0.842                      0.85000\n",
       "12       HouseKeeper                  0.884                      0.93000"
      ]
     },
     "execution_count": 14,
     "metadata": {},
     "output_type": "execute_result"
    }
   ],
   "source": [
    "tf = pd.DataFrame(data=occu)\n",
    "tf"
   ]
  },
  {
   "cell_type": "code",
   "execution_count": 15,
   "id": "0a72e193",
   "metadata": {},
   "outputs": [
    {
     "data": {
      "text/plain": [
       "<Axes: xlabel='BLS Female Percentage', ylabel='Bloomberg Female Percentage'>"
      ]
     },
     "execution_count": 15,
     "metadata": {},
     "output_type": "execute_result"
    },
    {
     "data": {
      "image/png": "[encoded data removed]",
      "text/plain": [
       "<Figure size 640x480 with 1 Axes>"
      ]
     },
     "metadata": {},
     "output_type": "display_data"
    }
   ],
   "source": [
    "sns.regplot(data=tf, x=\"BLS Female Percentage\", y=\"Bloomberg Female Percentage\")"
   ]
  },
  {
   "cell_type": "code",
   "execution_count": 16,
   "id": "f392b6e1",
   "metadata": {},
   "outputs": [
    {
     "name": "stdout",
     "output_type": "stream",
     "text": [
      "Pearson Correlation is:  0.7577218178282809\n"
     ]
    }
   ],
   "source": [
    "corr_bfs_bloom = tf['BLS Female Percentage'].corr(tf['Bloomberg Female Percentage'])\n",
    "print(\"Pearson Correlation is: \", corr_bfs_bloom)"
   ]
  },
  {
   "cell_type": "code",
   "execution_count": 18,
   "id": "e0c6c675",
   "metadata": {},
   "outputs": [
    {
     "name": "stdout",
     "output_type": "stream",
     "text": [
      "Pearson correlation: 0.7577218178282809\n",
      "p-value: 0.002694827091466579\n"
     ]
    }
   ],
   "source": [
    "correlation, p_value = pearsonr(tf['Bloomberg Female Percentage'], tf['BLS Female Percentage'])\n",
    "print(f'Pearson correlation: {correlation}')\n",
    "print(f'p-value: {p_value}')"
   ]
  },
  {
   "cell_type": "code",
   "execution_count": null,
   "id": "2feada36",
   "metadata": {},
   "outputs": [],
   "source": []
  }
 ],
 "metadata": {
  "kernelspec": {
   "display_name": "Python 3 (ipykernel)",
   "language": "python",
   "name": "python3"
  },
  "language_info": {
   "codemirror_mode": {
    "name": "ipython",
    "version": 3
   },
   "file_extension": ".py",
   "mimetype": "text/x-python",
   "name": "python",
   "nbconvert_exporter": "python",
   "pygments_lexer": "ipython3",
   "version": "3.11.5"
  }
 },
 "nbformat": 4,
 "nbformat_minor": 5
}
